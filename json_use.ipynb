{
 "cells": [
  {
   "cell_type": "markdown",
   "metadata": {},
   "source": [
    "# json use\n",
    "# 1. loads & dumps\n",
    "# 2. write or read fp : dump & load"
   ]
  },
  {
   "cell_type": "code",
   "execution_count": 5,
   "metadata": {},
   "outputs": [
    {
     "name": "stdout",
     "output_type": "stream",
     "text": [
      "[{'name': '張三', 'age': 20}]\n"
     ]
    }
   ],
   "source": [
    "import json\n",
    "# 1. str <--> dict list\n",
    "# str(json) -> list\n",
    "data = '[{\"name\": \"張三\", \"age\": 20}]'\n",
    "\n",
    "list_data = json.loads(data)\n",
    "\n",
    "print(list_data)"
   ]
  },
  {
   "cell_type": "code",
   "execution_count": 2,
   "metadata": {},
   "outputs": [
    {
     "name": "stdout",
     "output_type": "stream",
     "text": [
      "[{\"name\": \"\\u5f35\\u4e09\", \"age\": 20}, {\"name\": \"\\u674e\\u56db\", \"age\": 18}]\n"
     ]
    }
   ],
   "source": [
    "# dict list -> str(json)\n",
    "list2 = [{\"name\": \"張三\", \"age\":20}, {\"name\": \"李四\", \"age\":18}]\n",
    "\n",
    "data_json = json.dumps(list2)\n",
    "\n",
    "print(data_json)"
   ]
  },
  {
   "cell_type": "code",
   "execution_count": 3,
   "metadata": {},
   "outputs": [],
   "source": [
    "# 2. filepath and dict list transform\n",
    "# dict list ,write fp(filepath)\n",
    "filepath = open(\"json.json\" , \"w\")\n",
    "\n",
    "json.dump(list2, filepath)\n",
    "\n",
    "filepath.close()"
   ]
  },
  {
   "cell_type": "code",
   "execution_count": 4,
   "metadata": {},
   "outputs": [
    {
     "name": "stdout",
     "output_type": "stream",
     "text": [
      "[{'name': '張三', 'age': 20}, {'name': '李四', 'age': 18}]\n"
     ]
    }
   ],
   "source": [
    "# read json fp -> list dict\n",
    "result = json.load(open(\"json.json\", \"r\"))\n",
    "\n",
    "print(result)"
   ]
  }
 ],
 "metadata": {
  "kernelspec": {
   "display_name": "Python 3",
   "language": "python",
   "name": "python3"
  },
  "language_info": {
   "codemirror_mode": {
    "name": "ipython",
    "version": 3
   },
   "file_extension": ".py",
   "mimetype": "text/x-python",
   "name": "python",
   "nbconvert_exporter": "python",
   "pygments_lexer": "ipython3",
   "version": "3.7.2"
  }
 },
 "nbformat": 4,
 "nbformat_minor": 2
}
