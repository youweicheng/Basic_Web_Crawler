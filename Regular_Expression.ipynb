{
 "cells": [
  {
   "cell_type": "code",
   "execution_count": 1,
   "metadata": {},
   "outputs": [],
   "source": [
    "import re"
   ]
  },
  {
   "cell_type": "markdown",
   "metadata": {},
   "source": [
    "## basic matching on Python"
   ]
  },
  {
   "cell_type": "code",
   "execution_count": 2,
   "metadata": {},
   "outputs": [
    {
     "name": "stdout",
     "output_type": "stream",
     "text": [
      "True\n",
      "False\n"
     ]
    }
   ],
   "source": [
    "# matching string\n",
    "pattern1 = 'cat'\n",
    "pattern2 = 'bird'\n",
    "string = \"dog runs to cat\"\n",
    "print(pattern1 in string)\n",
    "print(pattern2 in string)"
   ]
  },
  {
   "cell_type": "markdown",
   "metadata": {},
   "source": [
    "## re matching"
   ]
  },
  {
   "cell_type": "code",
   "execution_count": 3,
   "metadata": {},
   "outputs": [
    {
     "name": "stdout",
     "output_type": "stream",
     "text": [
      "<re.Match object; span=(12, 15), match='cat'>\n",
      "None\n"
     ]
    }
   ],
   "source": [
    "# regular expression\n",
    "pattern1 = 'cat'\n",
    "pattern2 = 'bird'\n",
    "string = \"dog runs to cat\"\n",
    "print(re.search(pattern1, string))\n",
    "print(re.search(pattern2, string))"
   ]
  },
  {
   "cell_type": "markdown",
   "metadata": {},
   "source": [
    "## multiple matching, use [ ]"
   ]
  },
  {
   "cell_type": "code",
   "execution_count": 5,
   "metadata": {},
   "outputs": [
    {
     "name": "stdout",
     "output_type": "stream",
     "text": [
      "<re.Match object; span=(4, 7), match='run'>\n"
     ]
    }
   ],
   "source": [
    "# multiple patterns (\"run\" or \"ran\")\n",
    "pattern = r\"r[au]n\"\n",
    "print(re.search(pattern, 'dog runs to cat'))"
   ]
  },
  {
   "cell_type": "code",
   "execution_count": 7,
   "metadata": {},
   "outputs": [
    {
     "name": "stdout",
     "output_type": "stream",
     "text": [
      "None\n",
      "<re.Match object; span=(4, 7), match='run'>\n",
      "<re.Match object; span=(4, 7), match='r2n'>\n",
      "<re.Match object; span=(4, 7), match='run'>\n"
     ]
    }
   ],
   "source": [
    "print(re.search(r\"r[A-Z]n\", 'dog runs to cat'))\n",
    "print(re.search(r\"r[a-z]n\", 'dog runs to cat'))\n",
    "print(re.search(r\"r[0-9]n\", 'dog r2ns to cat'))\n",
    "print(re.search(r\"r[0-9a-z]n\", 'dog runs to cat'))"
   ]
  },
  {
   "cell_type": "markdown",
   "metadata": {},
   "source": [
    "## number matching"
   ]
  },
  {
   "cell_type": "code",
   "execution_count": 8,
   "metadata": {},
   "outputs": [
    {
     "name": "stdout",
     "output_type": "stream",
     "text": [
      "<re.Match object; span=(4, 7), match='r4n'>\n",
      "<re.Match object; span=(0, 3), match='run'>\n"
     ]
    }
   ],
   "source": [
    "# \\d : decimal digit\n",
    "print(re.search(r'r\\dn', 'run r4n'))\n",
    "# \\D : any non-decimal digit\n",
    "print(re.search(r'r\\Dn', 'run r4n'))"
   ]
  },
  {
   "cell_type": "markdown",
   "metadata": {},
   "source": [
    "## blank space matching"
   ]
  },
  {
   "cell_type": "code",
   "execution_count": 9,
   "metadata": {},
   "outputs": [
    {
     "name": "stdout",
     "output_type": "stream",
     "text": [
      "<re.Match object; span=(0, 3), match='r\\nn'>\n",
      "<re.Match object; span=(4, 7), match='r4n'>\n"
     ]
    }
   ],
   "source": [
    "# \\s : any white space [\\t\\n\\r\\f\\v] tab retrun ......\n",
    "print(re.search(r'r\\sn', 'r\\nn r4n'))\n",
    "# \\S : opposite to \\s, any non-white space\n",
    "print(re.search(r'r\\Sn', 'r\\nn r4n'))"
   ]
  },
  {
   "cell_type": "markdown",
   "metadata": {},
   "source": [
    "## alphabet, digit and \"_\""
   ]
  },
  {
   "cell_type": "code",
   "execution_count": 10,
   "metadata": {},
   "outputs": [
    {
     "name": "stdout",
     "output_type": "stream",
     "text": [
      "<re.Match object; span=(4, 7), match='r4n'>\n",
      "<re.Match object; span=(0, 3), match='r\\nn'>\n"
     ]
    }
   ],
   "source": [
    "# \\w : [a-zA-Z0-9_]\n",
    "print(re.search(r'r\\wn', 'r\\nn r4n'))\n",
    "# \\W : opposite to \\w\n",
    "print(re.search(r'r\\Wn', 'r\\nn r4n'))"
   ]
  },
  {
   "cell_type": "markdown",
   "metadata": {},
   "source": [
    "## empty string"
   ]
  },
  {
   "cell_type": "code",
   "execution_count": 13,
   "metadata": {},
   "outputs": [
    {
     "name": "stdout",
     "output_type": "stream",
     "text": [
      "<re.Match object; span=(4, 8), match='runs'>\n",
      "<re.Match object; span=(5, 11), match=' runs '>\n"
     ]
    }
   ],
   "source": [
    "# \\b : empty string (only at the start or end of the word)\n",
    "print(re.search(r'\\bruns\\b', 'dog runs to cat'))\n",
    "# \\B : empty string (but not at the start or end of a word)\n",
    "print(re.search(r'\\B runs \\B', 'dog   runs   to cat'))"
   ]
  },
  {
   "cell_type": "markdown",
   "metadata": {},
   "source": [
    "## unique character"
   ]
  },
  {
   "cell_type": "code",
   "execution_count": 26,
   "metadata": {},
   "outputs": [
    {
     "name": "stdout",
     "output_type": "stream",
     "text": [
      "<re.Match object; span=(0, 5), match='runs\\\\'>\n",
      "<re.Match object; span=(0, 3), match='r[n'>\n"
     ]
    }
   ],
   "source": [
    "# \\\\ : match \\\n",
    "print(re.search(r\"runs\\\\\", \"runs\\ to me\"))\n",
    "# . : match anything (except \\n)\n",
    "print(re.search(r'r.n', 'r[ns to me'))"
   ]
  },
  {
   "cell_type": "markdown",
   "metadata": {},
   "source": [
    "## line beginning and line ending"
   ]
  },
  {
   "cell_type": "code",
   "execution_count": 27,
   "metadata": {},
   "outputs": [
    {
     "name": "stdout",
     "output_type": "stream",
     "text": [
      "<re.Match object; span=(0, 3), match='dog'>\n",
      "<re.Match object; span=(12, 15), match='cat'>\n"
     ]
    }
   ],
   "source": [
    "# ^ : match line beginning\n",
    "print(re.search(r'^dog', \"dog runs to cat\"))\n",
    "# $ : match line ending\n",
    "print(re.search(r'cat$', 'dog runs to cat'))"
   ]
  },
  {
   "cell_type": "markdown",
   "metadata": {},
   "source": [
    "## may or may not"
   ]
  },
  {
   "cell_type": "code",
   "execution_count": 28,
   "metadata": {},
   "outputs": [
    {
     "name": "stdout",
     "output_type": "stream",
     "text": [
      "<re.Match object; span=(0, 6), match='Monday'>\n",
      "<re.Match object; span=(0, 3), match='Mon'>\n"
     ]
    }
   ],
   "source": [
    "# ? : may or may not occur\n",
    "print(re.search(r\"Mon(day)?\", \"Monday\"))\n",
    "print(re.search(r\"Mon(day)?\", \"Mon\"))"
   ]
  },
  {
   "cell_type": "markdown",
   "metadata": {},
   "source": [
    "## multiple line"
   ]
  },
  {
   "cell_type": "code",
   "execution_count": 29,
   "metadata": {},
   "outputs": [
    {
     "name": "stdout",
     "output_type": "stream",
     "text": [
      "None\n",
      "<re.Match object; span=(18, 19), match='I'>\n"
     ]
    }
   ],
   "source": [
    "# multi-line\n",
    "string = \"\"\"\n",
    "dog runs to cat.\n",
    "I run to dog.\n",
    "\"\"\"\n",
    "print(re.search(r\"^I\", string))\n",
    "print(re.search(r\"^I\", string, flags=re.M))"
   ]
  },
  {
   "cell_type": "markdown",
   "metadata": {},
   "source": [
    "## occur 0 or more times"
   ]
  },
  {
   "cell_type": "code",
   "execution_count": 30,
   "metadata": {},
   "outputs": [
    {
     "name": "stdout",
     "output_type": "stream",
     "text": [
      "<re.Match object; span=(0, 1), match='a'>\n",
      "<re.Match object; span=(0, 6), match='abbbbb'>\n"
     ]
    }
   ],
   "source": [
    "# * : occur 0 or more times\n",
    "print(re.search(r\"ab*\", \"a\"))\n",
    "print(re.search(r\"ab*\", \"abbbbb\"))"
   ]
  },
  {
   "cell_type": "markdown",
   "metadata": {},
   "source": [
    "## occur 1 or more times"
   ]
  },
  {
   "cell_type": "code",
   "execution_count": 32,
   "metadata": {},
   "outputs": [
    {
     "name": "stdout",
     "output_type": "stream",
     "text": [
      "None\n",
      "<re.Match object; span=(0, 6), match='abbbbb'>\n"
     ]
    }
   ],
   "source": [
    "# + : occur 1 or more times\n",
    "print(re.search(r\"ab+\", \"a\"))\n",
    "print(re.search(r\"ab+\", \"abbbbb\"))"
   ]
  },
  {
   "cell_type": "markdown",
   "metadata": {},
   "source": [
    "## occur n to m times"
   ]
  },
  {
   "cell_type": "code",
   "execution_count": 33,
   "metadata": {},
   "outputs": [
    {
     "name": "stdout",
     "output_type": "stream",
     "text": [
      "None\n",
      "<re.Match object; span=(0, 6), match='abbbbb'>\n"
     ]
    }
   ],
   "source": [
    "# {n, m} : occur n to m times\n",
    "print(re.search(r\"ab{2,10}\", \"a\"))\n",
    "print(re.search(r\"ab{2,10}\", \"abbbbb\"))"
   ]
  },
  {
   "cell_type": "markdown",
   "metadata": {},
   "source": [
    "## group"
   ]
  },
  {
   "cell_type": "code",
   "execution_count": 34,
   "metadata": {},
   "outputs": [
    {
     "name": "stdout",
     "output_type": "stream",
     "text": [
      "021523, Date: Mar/26/2022\n",
      "021523\n",
      "Mar/26/2022\n"
     ]
    }
   ],
   "source": [
    "# group\n",
    "match = re.search(r\"(\\d+), Date: (.+)\", \"ID: 021523, Date: Mar/26/2022\")\n",
    "print(match.group())\n",
    "print(match.group(1))\n",
    "print(match.group(2))"
   ]
  },
  {
   "cell_type": "code",
   "execution_count": 35,
   "metadata": {},
   "outputs": [
    {
     "name": "stdout",
     "output_type": "stream",
     "text": [
      "021523\n",
      "Mar/26/2022\n"
     ]
    }
   ],
   "source": [
    "# ?P<id> use a key to search, ?P<XX>  match.group('XX')\n",
    "match = re.search(r\"(?P<id>\\d+), Date: (?P<date>.+)\", \"ID: 021523, Date: Mar/26/2022\")\n",
    "print(match.group('id'))\n",
    "print(match.group('date'))"
   ]
  },
  {
   "cell_type": "markdown",
   "metadata": {},
   "source": [
    "## find all matching"
   ]
  },
  {
   "cell_type": "code",
   "execution_count": 37,
   "metadata": {},
   "outputs": [
    {
     "name": "stdout",
     "output_type": "stream",
     "text": [
      "['run', 'ran']\n"
     ]
    }
   ],
   "source": [
    "# findall\n",
    "print(re.findall(r\"r[ua]n\", \"run ran ren\"))"
   ]
  },
  {
   "cell_type": "code",
   "execution_count": 38,
   "metadata": {},
   "outputs": [
    {
     "name": "stdout",
     "output_type": "stream",
     "text": [
      "['run', 'ran']\n"
     ]
    }
   ],
   "source": [
    "# | : or\n",
    "print(re.findall(r\"run|ran\", \"run ran ren\"))"
   ]
  },
  {
   "cell_type": "markdown",
   "metadata": {},
   "source": [
    "## replace matching"
   ]
  },
  {
   "cell_type": "code",
   "execution_count": 39,
   "metadata": {},
   "outputs": [
    {
     "name": "stdout",
     "output_type": "stream",
     "text": [
      "dog catches to cat\n"
     ]
    }
   ],
   "source": [
    "# re.sub() replace\n",
    "print(re.sub(r\"r[au]ns\", \"catches\", \"dog runs to cat\"))"
   ]
  },
  {
   "cell_type": "markdown",
   "metadata": {},
   "source": [
    "## split matching"
   ]
  },
  {
   "cell_type": "code",
   "execution_count": 43,
   "metadata": {},
   "outputs": [
    {
     "name": "stdout",
     "output_type": "stream",
     "text": [
      "['a', 'b', 'c', 'd', 'e']\n"
     ]
    }
   ],
   "source": [
    "# re.split()\n",
    "print(re.split(r\"[,;\\.]\", \"a;b,c.d;e\"))"
   ]
  },
  {
   "cell_type": "markdown",
   "metadata": {},
   "source": [
    "## compile "
   ]
  },
  {
   "cell_type": "code",
   "execution_count": 44,
   "metadata": {},
   "outputs": [
    {
     "name": "stdout",
     "output_type": "stream",
     "text": [
      "<re.Match object; span=(4, 7), match='ran'>\n"
     ]
    }
   ],
   "source": [
    "# compile\n",
    "compiled_re = re.compile(r\"r[ua]n\")\n",
    "print(compiled_re.search(\"dog ran to cat\"))"
   ]
  },
  {
   "cell_type": "markdown",
   "metadata": {},
   "source": [
    "## source : morvanzhou 36 RegEx"
   ]
  },
  {
   "cell_type": "markdown",
   "metadata": {},
   "source": [
    "## Example"
   ]
  },
  {
   "cell_type": "code",
   "execution_count": 45,
   "metadata": {},
   "outputs": [
    {
     "name": "stdout",
     "output_type": "stream",
     "text": [
      "[('https://baijiahao.baidu.com/s?id=1728071133698837512&wfr=spider&for=pc', '俄罗斯航天发动机断供，马斯克坐地起价'), ('https://baijiahao.baidu.com/s?id=1728070458807553772&wfr=spider&for=pc', '苹果服务器两天内两次宕机，服务被切断'), ('https://baijiahao.baidu.com/s?id=1728046404068814219&wfr=spider&for=pc', '黑客宣称窃取了微软37GB源代码'), ('https://baijiahao.baidu.com/s?id=1728053656460983935&wfr=spider&for=pc', '谷歌母公司分拆旗下量子技术部门Sandbox'), ('https://baijiahao.baidu.com/s?id=1728049420613876032&wfr=spider&for=pc', '阿里巴巴1600亿“抄底”阿里巴巴'), ('https://baijiahao.baidu.com/s?id=1727985051609272646&wfr=spider&for=pc', '美团优选、淘菜菜后，京喜也被传将裁员'), ('https://baijiahao.baidu.com/s?id=1728068771521538157&wfr=spider&for=pc', '三星显示将于6月完全关闭LCD面板生产线'), ('https://baijiahao.baidu.com/s?id=1728058832438117951&wfr=spider&for=pc', '华为的全屋智能，和汽车有什么关系？'), ('https://baijiahao.baidu.com/s?id=1728065906197536832&wfr=spider&for=pc', '小米最大利润来源又变成互联网业务'), ('https://baijiahao.baidu.com/s?id=1728043860203897438&wfr=spider&for=pc', 'Facebook母公司遭澳大利亚监管机构起诉'), ('https://baijiahao.baidu.com/s?id=1728071372427662440&wfr=spider&for=pc', '走向合法化：拯救 NFT 声誉的战斗'), ('https://baijiahao.baidu.com/s?id=1728060706829887656&wfr=spider&for=pc', '特斯拉计划今年在欧洲发布FSD Beta版本'), ('https://baijiahao.baidu.com/s?id=1728041307507405114&wfr=spider&for=pc', 'Meta准备在荷兰建数据中心 因环保遭反对'), ('https://baijiahao.baidu.com/s?id=1728070706386501410&wfr=spider&for=pc', 'NFT高速发展后目前处于何种阶段？')]\n"
     ]
    }
   ],
   "source": [
    "import requests\n",
    "import re\n",
    "\n",
    "url = 'http://news.baidu.com/'\n",
    "\n",
    "headers = {\n",
    "    \"User-Agent\": 'Mozilla/5.0 (Macintosh; Intel Mac OS X 10_12_6) AppleWebKit/537.36 (KHTML, like Gecko) Chrome/70.0.3538.77 Safari/537.36'\n",
    "}\n",
    "# response.text is not accurate, parse by guess\n",
    "data = requests.get(url, headers=headers).content.decode(\"utf-8\")\n",
    "\n",
    "# use re to parse data\n",
    "# each title, url of news\n",
    "\n",
    "# <a href=\"https://baijiahao.baidu.com/s?id=1720708705449601897\" target=\"_blank\" mon=\"a=9\">车企“出逃”宁德时代</a>\n",
    "\n",
    "pattern = re.compile('<a href=\"(.*?)\" target=\"_blank\" mon=\"a=9\">(.*?)</a>')\n",
    "# pattern = re.compile('<a (.*?)</a>',re.S)\n",
    "result = pattern.findall(data)\n",
    "\n",
    "print(result)\n",
    "\n",
    "    "
   ]
  }
 ],
 "metadata": {
  "kernelspec": {
   "display_name": "Python 3",
   "language": "python",
   "name": "python3"
  },
  "language_info": {
   "codemirror_mode": {
    "name": "ipython",
    "version": 3
   },
   "file_extension": ".py",
   "mimetype": "text/x-python",
   "name": "python",
   "nbconvert_exporter": "python",
   "pygments_lexer": "ipython3",
   "version": "3.7.2"
  }
 },
 "nbformat": 4,
 "nbformat_minor": 2
}
