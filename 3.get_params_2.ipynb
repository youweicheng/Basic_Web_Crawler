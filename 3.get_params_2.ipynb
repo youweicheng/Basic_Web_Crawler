{
 "cells": [
  {
   "cell_type": "markdown",
   "metadata": {},
   "source": [
    "# muitiple params"
   ]
  },
  {
   "cell_type": "markdown",
   "metadata": {},
   "source": [
    "### 1. dict_params to url string"
   ]
  },
  {
   "cell_type": "code",
   "execution_count": 5,
   "metadata": {},
   "outputs": [
    {
     "name": "stdout",
     "output_type": "stream",
     "text": [
      "wd=%E7%BE%8E%E5%A5%B3&key=andriana&value=lima\n",
      "http://www.baidu.com/s?wd=%E7%BE%8E%E5%A5%B3&key=andriana&value=lima\n"
     ]
    }
   ],
   "source": [
    "import urllib.request \n",
    "import urllib.parse\n",
    "import string \n",
    "\n",
    "def get_params():\n",
    "    \n",
    "    url = \"http://www.baidu.com/s?\"\n",
    "    \n",
    "    params = {\n",
    "        \"wd\":\"美女\",\n",
    "        \"key\":\"andriana\",\n",
    "        \"value\":\"lima\"\n",
    "    }\n",
    "    # parse dict_params to url string\n",
    "    str_params = urllib.parse.urlencode(params)\n",
    "    \n",
    "    print(str_params)\n",
    "    \n",
    "    final_url = url + str_params\n",
    "    \n",
    "    print(final_url)\n",
    "    \n",
    "\n",
    "get_params()"
   ]
  },
  {
   "cell_type": "markdown",
   "metadata": {},
   "source": [
    "### 2. parse url with chinese words to readable url for python"
   ]
  },
  {
   "cell_type": "code",
   "execution_count": 6,
   "metadata": {},
   "outputs": [
    {
     "name": "stdout",
     "output_type": "stream",
     "text": [
      "http://www.baidu.com/s?wd=%E7%BE%8E%E5%A5%B3&key=andriana&value=lima\n"
     ]
    }
   ],
   "source": [
    "import urllib.request \n",
    "import urllib.parse\n",
    "import string \n",
    "\n",
    "def get_params():\n",
    "    \n",
    "    url = \"http://www.baidu.com/s?\"\n",
    "    \n",
    "    params = {\n",
    "        \"wd\":\"美女\",\n",
    "        \"key\":\"andriana\",\n",
    "        \"value\":\"lima\"\n",
    "    }\n",
    "    # parse dict_params to url string\n",
    "    str_params = urllib.parse.urlencode(params)\n",
    "    \n",
    "    final_url = url + str_params\n",
    "    \n",
    "    parse_url = urllib.parse.quote(final_url,safe=string.printable)\n",
    "    \n",
    "    print(parse_url)\n",
    "    \n",
    "    \n",
    "\n",
    "get_params()"
   ]
  },
  {
   "cell_type": "markdown",
   "metadata": {},
   "source": [
    "### 3. response -> data"
   ]
  },
  {
   "cell_type": "code",
   "execution_count": 12,
   "metadata": {},
   "outputs": [],
   "source": [
    "import urllib.request \n",
    "import urllib.parse\n",
    "import string \n",
    "\n",
    "def get_params():\n",
    "    \n",
    "    url = \"http://www.baidu.com/s?\"\n",
    "    \n",
    "    params = {\n",
    "        \"wd\":\"美女\",\n",
    "        \"key\":\"andriana\",\n",
    "        \"value\":\"lima\"\n",
    "    }\n",
    "    # parse dict_params to url string\n",
    "    str_params = urllib.parse.urlencode(params)\n",
    "    \n",
    "    final_url = url + str_params\n",
    "    \n",
    "    parse_url = urllib.parse.quote(final_url,safe=string.printable)\n",
    "    \n",
    "    response = urllib.request.urlopen(parse_url)\n",
    "    \n",
    "    data = response.read().decode(\"utf-8\")\n",
    "    \n",
    "\n",
    "get_params()"
   ]
  }
 ],
 "metadata": {
  "kernelspec": {
   "display_name": "Python 3",
   "language": "python",
   "name": "python3"
  },
  "language_info": {
   "codemirror_mode": {
    "name": "ipython",
    "version": 3
   },
   "file_extension": ".py",
   "mimetype": "text/x-python",
   "name": "python",
   "nbconvert_exporter": "python",
   "pygments_lexer": "ipython3",
   "version": "3.7.2"
  }
 },
 "nbformat": 4,
 "nbformat_minor": 2
}
