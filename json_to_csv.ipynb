{
 "cells": [
  {
   "cell_type": "markdown",
   "metadata": {},
   "source": [
    "# json file to csv file"
   ]
  },
  {
   "cell_type": "code",
   "execution_count": 5,
   "metadata": {},
   "outputs": [
    {
     "name": "stdout",
     "output_type": "stream",
     "text": [
      "[{'name': '張三', 'age': 20}, {'name': '李四', 'age': 18}]\n",
      "\n",
      "dict_keys(['name', 'age'])\n",
      "\n",
      "[dict_values(['張三', 20]), dict_values(['李四', 18])]\n"
     ]
    }
   ],
   "source": [
    "import json\n",
    "import csv\n",
    "# json file to csv file\n",
    "# 1. read json and write csv\n",
    "data_json = open(\"json.json\", \"r\")\n",
    "data_csv = open(\"csv.csv\", \"w\")\n",
    "# 2. get titles and content\n",
    "data_list = json.load(data_json)\n",
    "\n",
    "print(data_list)\n",
    "print()\n",
    "\n",
    "sheet_titles = data_list[0].keys()\n",
    "\n",
    "print(sheet_titles)\n",
    "print()\n",
    "\n",
    "data_values = []\n",
    "\n",
    "for data in data_list:\n",
    "    \n",
    "    data_values.append(data.values())\n",
    "    \n",
    "print(data_values)\n",
    "\n",
    "# 3. csv writer\n",
    "writer = csv.writer(data_csv)\n",
    "# 4. write row(titles)\n",
    "writer.writerow(sheet_titles)\n",
    "# 5. write rows(content)\n",
    "writer.writerows(data_values)\n",
    "# 6. close two files\n",
    "data_json.close()\n",
    "data_csv.close()\n"
   ]
  }
 ],
 "metadata": {
  "kernelspec": {
   "display_name": "Python 3",
   "language": "python",
   "name": "python3"
  },
  "language_info": {
   "codemirror_mode": {
    "name": "ipython",
    "version": 3
   },
   "file_extension": ".py",
   "mimetype": "text/x-python",
   "name": "python",
   "nbconvert_exporter": "python",
   "pygments_lexer": "ipython3",
   "version": "3.7.2"
  }
 },
 "nbformat": 4,
 "nbformat_minor": 2
}
