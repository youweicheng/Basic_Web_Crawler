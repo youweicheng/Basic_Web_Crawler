{
 "cells": [
  {
   "cell_type": "code",
   "execution_count": null,
   "metadata": {},
   "outputs": [],
   "source": [
    "'''\n",
    "goal: get page of personal page(member page)\n",
    "\n",
    "1. login with cookie\n",
    "2. get member page with having cookie automatically\n",
    "\n",
    "cookiejar : save the cookie automatically\n",
    "'''\n",
    "\n",
    "import urllib.request \n",
    "from http import cookiejar\n",
    "from urllib import parse\n",
    "# get : before login ; post : login\n",
    "# 1. url\n",
    "login_url = \"https://www.yaozh.com/login\"\n",
    "# 2. params\n",
    "login_data = {\n",
    "    \"username\":\"you0913338218@gmail.com\",\n",
    "    \"pwd\":\"test123\",\n",
    "    \"formhash\":\"BB824F0429\",\n",
    "    \"backurl\":\"https%3A%2F%2Fwww.yaozh.com%2F\"\n",
    "}\n",
    "# 3. use cookiejar\n",
    "cookie_jar = cookiejar.CookieJar()\n",
    "# 4. handler with cookie\n",
    "handler = urllib.request.HTTPCookieProcessor(cookie_jar)\n",
    "# 5. opener\n",
    "opener = urllib.request.build_opener(handler)\n",
    "# add headers\n",
    "headers = {\n",
    "    'User-Agent': 'Mozilla/5.0 (Macintosh; Intel Mac OS X 10_12_6) AppleWebKit/537.36 (KHTML, like Gecko) Chrome/70.0.3538.67 Safari/537.36'\n",
    "}\n",
    "# parse data\n",
    "login_str = parse.urlencode(login_data).encode(\"utf-8\")\n",
    "\n",
    "login_request = urllib.request.Request(login_url, headers=headers, data=login_str)\n",
    "# if login successfully, cookjar save cookie automatically\n",
    "opener.open(login_request)\n",
    "\n",
    "url = \"https://www.yaozh.com/member/\"\n",
    "\n",
    "request = urllib.request.Request(url, headers=headers)\n",
    "\n",
    "response = opener.open(url)\n",
    "\n",
    "data = response.read().decode()\n",
    "\n",
    "with open(\"03cookie.html\", \"w\") as f:\n",
    "    f.write(data)\n",
    "    \n",
    "    \n",
    "#"
   ]
  }
 ],
 "metadata": {
  "kernelspec": {
   "display_name": "Python 3",
   "language": "python",
   "name": "python3"
  },
  "language_info": {
   "codemirror_mode": {
    "name": "ipython",
    "version": 3
   },
   "file_extension": ".py",
   "mimetype": "text/x-python",
   "name": "python",
   "nbconvert_exporter": "python",
   "pygments_lexer": "ipython3",
   "version": "3.7.2"
  }
 },
 "nbformat": 4,
 "nbformat_minor": 2
}
