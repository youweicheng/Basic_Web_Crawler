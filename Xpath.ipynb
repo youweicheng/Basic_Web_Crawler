{
 "cells": [
  {
   "cell_type": "code",
   "execution_count": 17,
   "metadata": {},
   "outputs": [],
   "source": [
    "from lxml import etree\n",
    "\n",
    "html = \"\"\"\n",
    "<html>\n",
    "<body>\n",
    "<bookstore>\n",
    "  <book>\n",
    "    <title lang=\"en\">Harry Potter</title>\n",
    "    <price>29.99</price>\n",
    "  </book>\n",
    "  <book>\n",
    "    <title lang=\"en\">Learning XML</title>\n",
    "    <price>39.95</price>\n",
    "  </book>\n",
    "</bookstore>\n",
    "</body>\n",
    "</html>\n",
    "\"\"\"\n",
    "\n",
    "xpath_data = etree.HTML(html)"
   ]
  },
  {
   "cell_type": "code",
   "execution_count": 32,
   "metadata": {},
   "outputs": [
    {
     "name": "stdout",
     "output_type": "stream",
     "text": [
      "['Harry Potter']\n"
     ]
    }
   ],
   "source": [
    "result = xpath_data.xpath('//bookstore/book[1]/title/text()')\n",
    "print(result)"
   ]
  },
  {
   "cell_type": "code",
   "execution_count": 33,
   "metadata": {},
   "outputs": [
    {
     "name": "stdout",
     "output_type": "stream",
     "text": [
      "['Learning XML']\n"
     ]
    }
   ],
   "source": [
    "result = xpath_data.xpath('//bookstore/book[last()]/title/text()')\n",
    "print(result)"
   ]
  },
  {
   "cell_type": "code",
   "execution_count": 34,
   "metadata": {},
   "outputs": [
    {
     "name": "stdout",
     "output_type": "stream",
     "text": [
      "['Harry Potter']\n"
     ]
    }
   ],
   "source": [
    "result = xpath_data.xpath('//bookstore/book[last()-1]/title/text()')\n",
    "print(result)"
   ]
  },
  {
   "cell_type": "code",
   "execution_count": 36,
   "metadata": {},
   "outputs": [
    {
     "name": "stdout",
     "output_type": "stream",
     "text": [
      "['Harry Potter', 'Learning XML']\n"
     ]
    }
   ],
   "source": [
    "result = xpath_data.xpath('//title[@lang]/text()')\n",
    "print(result)"
   ]
  },
  {
   "cell_type": "code",
   "execution_count": 39,
   "metadata": {},
   "outputs": [
    {
     "name": "stdout",
     "output_type": "stream",
     "text": [
      "['39.95']\n"
     ]
    }
   ],
   "source": [
    "result = xpath_data.xpath('//bookstore/book[price>35.00]/price/text()')\n",
    "print(result)"
   ]
  },
  {
   "cell_type": "code",
   "execution_count": 40,
   "metadata": {},
   "outputs": [
    {
     "name": "stdout",
     "output_type": "stream",
     "text": [
      "['Harry Potter', 'Learning XML']\n"
     ]
    }
   ],
   "source": [
    "result = xpath_data.xpath('//title[@*]/text()')\n",
    "print(result)"
   ]
  },
  {
   "cell_type": "code",
   "execution_count": 56,
   "metadata": {},
   "outputs": [
    {
     "name": "stdout",
     "output_type": "stream",
     "text": [
      "['5\\n        ', '\\n     ']\n"
     ]
    }
   ],
   "source": [
    "html = \"\"\"\n",
    "    <html>\n",
    "    <body>\n",
    "    <ul>\n",
    "     <li>1\n",
    "         <a href=\"\">子1</a>\n",
    "     </li>\n",
    "     <li>2\n",
    "        <a href=\"\">子2</a>\n",
    "     </li>\n",
    "     <li>3\n",
    "        <a href=\"\">子3</a>\n",
    "     </li>\n",
    "     <li>4\n",
    "         <a href=\"\">子</a>\n",
    "     </li>\n",
    "     <li>5\n",
    "        <a href=\"\">子</a>\n",
    "     </li>\n",
    "     \n",
    " </ul>\n",
    " </body>\n",
    " </html>\n",
    "\"\"\"\n",
    "# 1. transform to xpath data\n",
    "xpath_data = etree.HTML(html)\n",
    "\n",
    "result = xpath_data.xpath('//li[5]/text()')\n",
    "print(result)"
   ]
  },
  {
   "cell_type": "code",
   "execution_count": 57,
   "metadata": {},
   "outputs": [
    {
     "name": "stdout",
     "output_type": "stream",
     "text": [
      "['子1', '子2', '子3', '子', '子']\n"
     ]
    }
   ],
   "source": [
    "result = xpath_data.xpath('/html/body/ul/li/a/text()')\n",
    "print(result)"
   ]
  },
  {
   "cell_type": "code",
   "execution_count": 60,
   "metadata": {},
   "outputs": [
    {
     "name": "stdout",
     "output_type": "stream",
     "text": [
      "['子3']\n"
     ]
    }
   ],
   "source": [
    "result = xpath_data.xpath('//li[3]/a/text()')\n",
    "print(result)"
   ]
  },
  {
   "cell_type": "markdown",
   "metadata": {},
   "source": [
    "## Exercise"
   ]
  },
  {
   "cell_type": "code",
   "execution_count": 62,
   "metadata": {},
   "outputs": [
    {
     "name": "stdout",
     "output_type": "stream",
     "text": [
      "['百度新闻——海量中文资讯平台']\n"
     ]
    }
   ],
   "source": [
    "import requests\n",
    "# pip install lxml\n",
    "from lxml import etree\n",
    "\n",
    "url = 'http://news.baidu.com/'\n",
    "\n",
    "headers = {\n",
    "    \"User-Agent\": 'Mozilla/5.0 (Macintosh; Intel Mac OS X 10_12_6) AppleWebKit/537.36 (KHTML, like Gecko) Chrome/70.0.3538.77 Safari/537.36'\n",
    "}\n",
    "\n",
    "data = requests.get(url, headers=headers).content.decode('utf-8')\n",
    "# 1. get xpath data\n",
    "xpath_data = etree.HTML(data)\n",
    "\n",
    "# xpath syntax\n",
    "# 1. node : /\n",
    "# 2. cross node : //\n",
    "# 3. specific tag : //a[@attribute=\"value\"]\n",
    "# 4. content in tag : text()\n",
    "# 5. attribute : @href\n",
    "# xpath -- list\n",
    "\n",
    "\n",
    "# 2. xpath method \n",
    "result = xpath_data.xpath('/html/head/title/text()')\n",
    "print(result)"
   ]
  },
  {
   "cell_type": "code",
   "execution_count": 63,
   "metadata": {},
   "outputs": [
    {
     "name": "stdout",
     "output_type": "stream",
     "text": [
      "['网页', '贴吧', '知道', '音乐', '图片', '视频', '地图', '文库', '\\n', '\\n', '\\n', '\\n', '帮助', '首页', '国内', '国际', '军事', '财经', '娱乐', '体育', '互联网', '科技', '游戏', '女人', '汽车', '房产', '首页', '国内', '国际', '军事', '财经', '娱乐', '体育', '互联网', '科技', '游戏', '女人', '汽车', '房产', '\\n', '\\n', '热点要闻', '追梦新时代 习近平“典”燃奋斗信心', '东航空难第一部黑匣子搜寻过程', '救援现场', '“天宫课堂”又上新！', '太空看到的月亮有什么不同？', '东航客机坠毁地卫星遥感影像公布', '搜寻，与风雨赛跑', '国家药监局已批准19个新冠病毒抗原检测试剂', '双标 浮标 无标——俄乌冲突暴露西方多重丑态', '更大规模留抵退税 企业迎来超万亿“真金白银”', '打牢全年粮食丰收基础 各地各部门多措并举抓春耕', '国际锐评｜所谓“人权卫道士”又想背信弃义？', '冰墩墩上太空了！王亚平和冰墩墩在中国空间站同框', '国务院安委办、应急管理部：立即开展民航安全隐患排查', '直播：MU5735坠机事故现场 全力搜寻第二个黑匣子', '武警穿雨衣在核心区清理飞机残骸 踩竹排进行传递搬运摆放', '坠机乘客亲属现场祭拜：接受现实，暂未收到遗物', '坠机核心区黑色蝴蝶结疑似云南女孩所留 好友：曾见她戴过', '美撤销中信国际在美公司214牌照 中方：坚决反对', '美国恢复部分中国进口商品的关税豁免', '航拍俄乌交战中的马里乌波尔：满目疮痍不见人迹', '俄罗斯驱逐美驻俄外交官:任何敌对行动都将得到强有力回应', '俄乌冲突30日：乌近1/4人口流离，克宫称作战目标未达成', '因制裁俄罗斯 英国名菜\"炸鱼薯条\"陷入断供 炸鱼店被迫关门', '法国一研究中心：新冠感染或导致不育和大脑老化', '现场!朴槿惠出狱后首个公开行程:参拜父母墓地 深深三鞠躬', '张文宏：新冠没有那么吓人，但是仗很难打', '31省区市3月23日新增本土确诊2010例，本土无症状2722例', '上海3月23日新增本土确诊4例，本土无症状感染者979例', '甘肃一托育中心被曝虐待儿童 官方:涉事机构停业多部门介入', '发文称“女人脚臭是男人的5倍”，宝洁被曝侮辱女性', '腾讯2021年全年净利润2248.2亿元 同比增长41%', '测核酸时不要再“啊”了！专家提醒5个细节', '北大毕业博士入职发电集团，诈骗2600万获刑10年', '大学生逃票进庐山景区坠亡，家属索赔90多万，法院判了！', '90后女生腰疼发现两腿相差1.5厘米：长期跷二郎腿', '为救人95后辅警一路咆哮狂奔 网友：奔跑的身影真帅！', '膜法世家“诡异”海豚广告翻车！公司：决定撤掉', '\\n', '\\n', '\\n', '\\n', '\\n', '\\n', '\\n', '8', '7', '6', '5', '4', '3', '2', '1', '中国为什么要坚持', '动态清零', '今年为何要推出', '大规模留抵退税', '拉网式全力搜寻', '第二个黑匣子', '坠机现场:泥泞中残骸呈碎片散落', '31省份新增本土', '“2010+2722”', '专家提醒:测核酸时不要再啊了', '张文宏:新冠', '没有那么吓人', '但仗难打', '至月底全国', '约取消或延期', '9000场演出', '美恢复352项', '中国进口商品', '关税豁免', '俄宣布驱逐美国驻俄外交官', '芯片巨头高通推出1亿美元的元宇宙基金', '无聊猿猴NFT创作方融资4.5亿美元', '特斯拉德国超级工厂开幕投产！', '俄罗斯航天发动机断供，马斯克坐地起价', '苹果服务器两天内两次宕机，服务被切断', '黑客宣称窃取了微软37GB源代码', '谷歌母公司分拆旗下量子技术部门Sandbox', '阿里巴巴1600亿“抄底”阿里巴巴', '美团优选、淘菜菜后，京喜也被传将裁员', '三星显示将于6月完全关闭LCD面板生产线', '华为的全屋智能，和汽车有什么关系？', '小米最大利润来源又变成互联网业务', 'Facebook母公司遭澳大利亚监管机构起诉', '走向合法化：拯救 NFT 声誉的战斗', '特斯拉计划今年在欧洲发布FSD Beta版本', 'Meta准备在荷兰建数据中心 因环保遭反对', 'NFT高速发展后目前处于何种阶段？', 'Facebook开通TikTok账号？', '切换城市', '辟谣', '举报', '二维码', '收藏本站', '搜索', '用户反馈', 'Android版下载', 'iPhone版下载', '用户协议', '隐私策略', '投诉中心', '互联网新闻信息服务许可', '使用百度前必读', '\\n', '\\n', '\\n']\n"
     ]
    }
   ],
   "source": [
    "result = xpath_data.xpath(\"//a/text()\")\n",
    "print(result)"
   ]
  },
  {
   "cell_type": "code",
   "execution_count": 64,
   "metadata": {},
   "outputs": [
    {
     "name": "stdout",
     "output_type": "stream",
     "text": [
      "['追梦新时代 习近平“典”燃奋斗信心', '东航空难第一部黑匣子搜寻过程', '救援现场', '“天宫课堂”又上新！', '太空看到的月亮有什么不同？', '东航客机坠毁地卫星遥感影像公布', '搜寻，与风雨赛跑', '国家药监局已批准19个新冠病毒抗原检测试剂', '双标 浮标 无标——俄乌冲突暴露西方多重丑态', '更大规模留抵退税 企业迎来超万亿“真金白银”', '打牢全年粮食丰收基础 各地各部门多措并举抓春耕', '国际锐评｜所谓“人权卫道士”又想背信弃义？', '冰墩墩上太空了！王亚平和冰墩墩在中国空间站同框', '国务院安委办、应急管理部：立即开展民航安全隐患排查', '直播：MU5735坠机事故现场 全力搜寻第二个黑匣子', '武警穿雨衣在核心区清理飞机残骸 踩竹排进行传递搬运摆放', '坠机乘客亲属现场祭拜：接受现实，暂未收到遗物', '坠机核心区黑色蝴蝶结疑似云南女孩所留 好友：曾见她戴过', '美撤销中信国际在美公司214牌照 中方：坚决反对', '美国恢复部分中国进口商品的关税豁免', '航拍俄乌交战中的马里乌波尔：满目疮痍不见人迹', '俄罗斯驱逐美驻俄外交官:任何敌对行动都将得到强有力回应', '俄乌冲突30日：乌近1/4人口流离，克宫称作战目标未达成', '因制裁俄罗斯 英国名菜\"炸鱼薯条\"陷入断供 炸鱼店被迫关门', '法国一研究中心：新冠感染或导致不育和大脑老化', '现场!朴槿惠出狱后首个公开行程:参拜父母墓地 深深三鞠躬', '张文宏：新冠没有那么吓人，但是仗很难打', '31省区市3月23日新增本土确诊2010例，本土无症状2722例', '上海3月23日新增本土确诊4例，本土无症状感染者979例', '甘肃一托育中心被曝虐待儿童 官方:涉事机构停业多部门介入', '发文称“女人脚臭是男人的5倍”，宝洁被曝侮辱女性', '腾讯2021年全年净利润2248.2亿元 同比增长41%', '测核酸时不要再“啊”了！专家提醒5个细节', '北大毕业博士入职发电集团，诈骗2600万获刑10年', '大学生逃票进庐山景区坠亡，家属索赔90多万，法院判了！', '90后女生腰疼发现两腿相差1.5厘米：长期跷二郎腿', '为救人95后辅警一路咆哮狂奔 网友：奔跑的身影真帅！', '膜法世家“诡异”海豚广告翻车！公司：决定撤掉', '中国为什么要坚持', '动态清零', '今年为何要推出', '大规模留抵退税', '拉网式全力搜寻', '第二个黑匣子', '坠机现场:泥泞中残骸呈碎片散落', '31省份新增本土', '“2010+2722”', '专家提醒:测核酸时不要再啊了', '张文宏:新冠', '没有那么吓人', '但仗难打', '至月底全国', '约取消或延期', '9000场演出', '美恢复352项', '中国进口商品', '关税豁免', '俄宣布驱逐美国驻俄外交官', '芯片巨头高通推出1亿美元的元宇宙基金', '无聊猿猴NFT创作方融资4.5亿美元', '特斯拉德国超级工厂开幕投产！', '俄罗斯航天发动机断供，马斯克坐地起价', '苹果服务器两天内两次宕机，服务被切断', '黑客宣称窃取了微软37GB源代码', '谷歌母公司分拆旗下量子技术部门Sandbox', '阿里巴巴1600亿“抄底”阿里巴巴', '美团优选、淘菜菜后，京喜也被传将裁员', '三星显示将于6月完全关闭LCD面板生产线', '华为的全屋智能，和汽车有什么关系？', '小米最大利润来源又变成互联网业务', 'Facebook母公司遭澳大利亚监管机构起诉', '走向合法化：拯救 NFT 声誉的战斗', '特斯拉计划今年在欧洲发布FSD Beta版本', 'Meta准备在荷兰建数据中心 因环保遭反对', 'NFT高速发展后目前处于何种阶段？', 'Facebook开通TikTok账号？', 'Android版下载', 'iPhone版下载', '\\n', '\\n', '\\n']\n"
     ]
    }
   ],
   "source": [
    "result = xpath_data.xpath('//a[@target=\"_blank\"]/text()')\n",
    "print(result)"
   ]
  },
  {
   "cell_type": "code",
   "execution_count": 65,
   "metadata": {},
   "outputs": [
    {
     "name": "stdout",
     "output_type": "stream",
     "text": [
      "['https://news.cctv.com/2022/03/22/ARTIsV5aP3s2zcUIxhwHa7ey220317.shtml', 'https://news.cctv.com/2022/03/23/ARTIbSiRf7qvDw1yL7VdoWrr220323.shtml', 'https://mp.weixin.qq.com/s/edkdRFUclmllMciOjr98_g', 'https://content-static.cctvnews.cctv.com/snow-book/index.html?toc_style_id=feeds_default&share_to=wechat&item_id=13998097437982736501&track_id=6D3196BD-7896-4CAF-9CA3-A6DA9D6B1DF0_669741838110', 'https://mp.weixin.qq.com/s/ylEJEvlUEUc-_xs6aoACeA', 'https://content-static.cctvnews.cctv.com/snow-book/index.html?item_id=14341851558748645271&toc_style_id=feeds_default&share_to=copy_url&track_id=e8845d59-fbc4-49f8-997e-d32f5c24f496', 'https://content-static.cctvnews.cctv.com/snow-book/index.html?item_id=3347052456315076496&t=1648032260015&toc_style_id=feeds_default&share_to=copy_url&track_id=c6e534ea-f333-474d-b30c-7216e1d9ace7', 'https://content-static.cctvnews.cctv.com/snow-book/index.html?item_id=3815618978145153846&t=1648016019571&toc_style_id=feeds_default&share_to=copy_url&track_id=316cde1f-ec8a-4f3a-8826-fac350cd86f3', 'http://gx.news.cn/newscenter/2022-03/22/c_1128494038.htm', 'https://mp.weixin.qq.com/s/6vKMWXUJ3A8ZvXKBT9NgDw', 'http://www.news.cn/world/2022-03/23/c_1128497591.htm', 'https://news.gmw.cn/2022-03/24/content_35608300.htm', 'https://economy.gmw.cn/2022-03/23/content_35607626.htm', 'https://content-static.cctvnews.cctv.com/snow-book/index.html?toc_style_id=feeds_default&share_to=wechat&item_id=16796732840907128651&track_id=899161EC-4B12-4235-A347-C3F7A3D1D8EA_669773332314', 'https://baijiahao.baidu.com/s?id=1728080218616928945&wfr=content', 'https://baijiahao.baidu.com/s?id=1728153908094368163&wfr=content', 'https://live.baidu.com/m/media/pclive/pchome/live.html?type=live&action=liveshow&room_id=7215356726&preview=1&wfr=platform', 'https://baijiahao.baidu.com/s?id=1728149165116806865&wfr=content', 'https://baijiahao.baidu.com/s?id=1728151387475668916&wfr=content', 'https://baijiahao.baidu.com/s?id=1728153723942490420&wfr=content', 'http://baijiahao.baidu.com/s?id=1728151518209613872', 'http://baijiahao.baidu.com/s?id=1728136923926806683', 'https://baijiahao.baidu.com/s?id=1728135499078477443&wfr=content', 'https://baijiahao.baidu.com/s?id=1728136931168917062&wfr=content', 'https://baijiahao.baidu.com/s?id=1728134273031737468&wfr=content', 'https://baijiahao.baidu.com/s?id=1728081148257402802&wfr=content', 'https://baijiahao.baidu.com/s?id=1728055397173011669&wfr=content', 'https://baijiahao.baidu.com/s?id=1728146230102903081&wfr=content', 'https://www.thepaper.cn/newsDetail_forward_17276633', 'https://baijiahao.baidu.com/s?id=1728142448603898160&wfr=content', 'https://baijiahao.baidu.com/s?id=1728138261127732935&wfr=content', 'https://baijiahao.baidu.com/s?id=1728152314467022172&wfr=content', 'http://baijiahao.baidu.com/s?id=1728149113534682297', 'https://baijiahao.baidu.com/s?id=1728079427148759947', 'https://baijiahao.baidu.com/s?id=1728144024215594621&wfr=content', 'https://baijiahao.baidu.com/s?id=1728059725365615459&wfr=content', 'https://baijiahao.baidu.com/s?id=1728067228053078870&wfr=content', 'https://baijiahao.baidu.com/s?id=1728060426865404885&wfr=content', 'https://baijiahao.baidu.com/s?id=1728074535615493739&wfr=content', 'https://baijiahao.baidu.com/s?id=1728062880769117031', 'javascript:void(0);', 'javascript:void(0);', 'https://www.baidu.com/s?wd=%E4%B8%AD%E5%9B%BD%E4%B8%BA%E4%BB%80%E4%B9%88%E8%A6%81%E5%9D%9A%E6%8C%81%E5%8A%A8%E6%80%81%E6%B8%85%E9%9B%B6', 'https://www.baidu.com/s?wd=%E4%BB%8A%E5%B9%B4%E4%B8%BA%E4%BD%95%E8%A6%81%E6%8E%A8%E5%87%BA%E5%A4%A7%E8%A7%84%E6%A8%A1%E7%95%99%E6%8A%B5%E9%80%80%E7%A8%8E', 'https://www.baidu.com/s?wd=%E6%8B%89%E7%BD%91%E5%BC%8F%E5%85%A8%E5%8A%9B%E6%90%9C%E5%AF%BB%E7%AC%AC%E4%BA%8C%E4%B8%AA%E9%BB%91%E5%8C%A3%E5%AD%90', 'https://www.baidu.com/s?wd=%E5%9D%A0%E6%9C%BA%E7%8E%B0%E5%9C%BA:%E6%B3%A5%E6%B3%9E%E4%B8%AD%E6%AE%8B%E9%AA%B8%E5%91%88%E7%A2%8E%E7%89%87%E6%95%A3%E8%90%BD', 'https://www.baidu.com/s?wd=31%E7%9C%81%E4%BB%BD%E6%96%B0%E5%A2%9E%E6%9C%AC%E5%9C%9F%E2%80%9C2010%2B2722%E2%80%9D', 'https://www.baidu.com/s?wd=%E4%B8%93%E5%AE%B6%E6%8F%90%E9%86%92:%E6%B5%8B%E6%A0%B8%E9%85%B8%E6%97%B6%E4%B8%8D%E8%A6%81%E5%86%8D%E5%95%8A%E4%BA%86', 'https://www.baidu.com/s?wd=%E5%BC%A0%E6%96%87%E5%AE%8F:%E6%96%B0%E5%86%A0%E6%B2%A1%E6%9C%89%E9%82%A3%E4%B9%88%E5%90%93%E4%BA%BA%E4%BD%86%E4%BB%97%E9%9A%BE%E6%89%93', 'https://www.baidu.com/s?wd=%E8%87%B3%E6%9C%88%E5%BA%95%E5%85%A8%E5%9B%BD%E7%BA%A6%E5%8F%96%E6%B6%88%E6%88%96%E5%BB%B6%E6%9C%9F9000%E5%9C%BA%E6%BC%94%E5%87%BA', 'https://www.baidu.com/s?wd=%E7%BE%8E%E6%81%A2%E5%A4%8D352%E9%A1%B9%E4%B8%AD%E5%9B%BD%E8%BF%9B%E5%8F%A3%E5%95%86%E5%93%81%E5%85%B3%E7%A8%8E%E8%B1%81%E5%85%8D', 'https://www.baidu.com/s?wd=%E4%BF%84%E5%AE%A3%E5%B8%83%E9%A9%B1%E9%80%90%E7%BE%8E%E5%9B%BD%E9%A9%BB%E4%BF%84%E5%A4%96%E4%BA%A4%E5%AE%98', 'https://baijiahao.baidu.com/s?id=1728069744442805001&wfr=spider&for=pc', 'https://baijiahao.baidu.com/s?id=1728069744442805001&wfr=spider&for=pc', 'https://baijiahao.baidu.com/s?id=1728058985920372908&wfr=spider&for=pc', 'https://baijiahao.baidu.com/s?id=1728058985920372908&wfr=spider&for=pc', 'https://baijiahao.baidu.com/s?id=1728071802177643615&wfr=spider&for=pc', 'https://baijiahao.baidu.com/s?id=1728071802177643615&wfr=spider&for=pc', 'https://baijiahao.baidu.com/s?id=1728071133698837512&wfr=spider&for=pc', 'https://baijiahao.baidu.com/s?id=1728070458807553772&wfr=spider&for=pc', 'https://baijiahao.baidu.com/s?id=1728046404068814219&wfr=spider&for=pc', 'https://baijiahao.baidu.com/s?id=1728053656460983935&wfr=spider&for=pc', 'https://baijiahao.baidu.com/s?id=1728049420613876032&wfr=spider&for=pc', 'https://baijiahao.baidu.com/s?id=1727985051609272646&wfr=spider&for=pc', 'https://baijiahao.baidu.com/s?id=1728068771521538157&wfr=spider&for=pc', 'https://baijiahao.baidu.com/s?id=1728058832438117951&wfr=spider&for=pc', 'https://baijiahao.baidu.com/s?id=1728065906197536832&wfr=spider&for=pc', 'https://baijiahao.baidu.com/s?id=1728043860203897438&wfr=spider&for=pc', 'https://baijiahao.baidu.com/s?id=1728071372427662440&wfr=spider&for=pc', 'https://baijiahao.baidu.com/s?id=1728060706829887656&wfr=spider&for=pc', 'https://baijiahao.baidu.com/s?id=1728041307507405114&wfr=spider&for=pc', 'https://baijiahao.baidu.com/s?id=1728070706386501410&wfr=spider&for=pc', 'https://baijiahao.baidu.com/s?id=1728015167126229290&wfr=spider&for=pc', 'https://baijiahao.baidu.com/s?id=1728015167126229290&wfr=spider&for=pc', '', '', 'http://downpack.baidu.com/baidunews_AndroidPhone_1014720b.apk', 'https://itunes.apple.com/cn/app/id482820737', 'http://net.china.cn/chinese/index.htm', 'http://www.cyberpolice.cn/wfjb/', 'http://www.bjjubao.org/']\n"
     ]
    }
   ],
   "source": [
    "result = xpath_data.xpath('//a[@target=\"_blank\"]/@href')\n",
    "print(result)"
   ]
  },
  {
   "cell_type": "code",
   "execution_count": 66,
   "metadata": {},
   "outputs": [
    {
     "name": "stdout",
     "output_type": "stream",
     "text": [
      "['网页', '贴吧', '知道', '音乐', '图片', '视频', '地图', '文库', '首页', '国内', '国际', '军事', '财经', '娱乐', '体育', '互联网', '科技', '游戏', '女人', '汽车', '房产', '首页', '国内', '国际', '军事', '财经', '娱乐', '体育', '互联网', '科技', '游戏', '女人', '汽车', '房产', '热点要闻', '双标 浮标 无标——俄乌冲突暴露西方多重丑态', '更大规模留抵退税 企业迎来超万亿“真金白银”', '打牢全年粮食丰收基础 各地各部门多措并举抓春耕', '国际锐评｜所谓“人权卫道士”又想背信弃义？', '冰墩墩上太空了！王亚平和冰墩墩在中国空间站同框', '国务院安委办、应急管理部：立即开展民航安全隐患排查', '直播：MU5735坠机事故现场 全力搜寻第二个黑匣子', '武警穿雨衣在核心区清理飞机残骸 踩竹排进行传递搬运摆放', '坠机乘客亲属现场祭拜：接受现实，暂未收到遗物', '坠机核心区黑色蝴蝶结疑似云南女孩所留 好友：曾见她戴过', '美撤销中信国际在美公司214牌照 中方：坚决反对', '美国恢复部分中国进口商品的关税豁免', '航拍俄乌交战中的马里乌波尔：满目疮痍不见人迹', '俄罗斯驱逐美驻俄外交官:任何敌对行动都将得到强有力回应', '俄乌冲突30日：乌近1/4人口流离，克宫称作战目标未达成', '因制裁俄罗斯 英国名菜\"炸鱼薯条\"陷入断供 炸鱼店被迫关门', '法国一研究中心：新冠感染或导致不育和大脑老化', '现场!朴槿惠出狱后首个公开行程:参拜父母墓地 深深三鞠躬', '张文宏：新冠没有那么吓人，但是仗很难打', '31省区市3月23日新增本土确诊2010例，本土无症状2722例', '上海3月23日新增本土确诊4例，本土无症状感染者979例', '甘肃一托育中心被曝虐待儿童 官方:涉事机构停业多部门介入', '发文称“女人脚臭是男人的5倍”，宝洁被曝侮辱女性', '腾讯2021年全年净利润2248.2亿元 同比增长41%', '测核酸时不要再“啊”了！专家提醒5个细节', '北大毕业博士入职发电集团，诈骗2600万获刑10年', '大学生逃票进庐山景区坠亡，家属索赔90多万，法院判了！', '90后女生腰疼发现两腿相差1.5厘米：长期跷二郎腿', '为救人95后辅警一路咆哮狂奔 网友：奔跑的身影真帅！', '膜法世家“诡异”海豚广告翻车！公司：决定撤掉', '中国为什么要坚持', '动态清零', '今年为何要推出', '大规模留抵退税', '拉网式全力搜寻', '第二个黑匣子', '坠机现场:泥泞中残骸呈碎片散落', '31省份新增本土', '“2010+2722”', '专家提醒:测核酸时不要再啊了', '张文宏:新冠', '没有那么吓人', '但仗难打', '至月底全国', '约取消或延期', '9000场演出', '美恢复352项', '中国进口商品', '关税豁免', '俄宣布驱逐美国驻俄外交官', '俄罗斯航天发动机断供，马斯克坐地起价', '苹果服务器两天内两次宕机，服务被切断', '黑客宣称窃取了微软37GB源代码', '谷歌母公司分拆旗下量子技术部门Sandbox', '阿里巴巴1600亿“抄底”阿里巴巴', '美团优选、淘菜菜后，京喜也被传将裁员', '三星显示将于6月完全关闭LCD面板生产线', '华为的全屋智能，和汽车有什么关系？', '小米最大利润来源又变成互联网业务', 'Facebook母公司遭澳大利亚监管机构起诉', '走向合法化：拯救 NFT 声誉的战斗', '特斯拉计划今年在欧洲发布FSD Beta版本', 'Meta准备在荷兰建数据中心 因环保遭反对', 'NFT高速发展后目前处于何种阶段？', '辟谣', '举报', '二维码', '收藏本站', '搜索', '用户反馈']\n"
     ]
    }
   ],
   "source": [
    "result = xpath_data.xpath('//li/a/text()')\n",
    "print(result)"
   ]
  }
 ],
 "metadata": {
  "kernelspec": {
   "display_name": "Python 3",
   "language": "python",
   "name": "python3"
  },
  "language_info": {
   "codemirror_mode": {
    "name": "ipython",
    "version": 3
   },
   "file_extension": ".py",
   "mimetype": "text/x-python",
   "name": "python",
   "nbconvert_exporter": "python",
   "pygments_lexer": "ipython3",
   "version": "3.7.2"
  }
 },
 "nbformat": 4,
 "nbformat_minor": 2
}
