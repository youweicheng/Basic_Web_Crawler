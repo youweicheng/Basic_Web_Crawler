{
 "cells": [
  {
   "cell_type": "markdown",
   "metadata": {},
   "source": [
    "# Method 1"
   ]
  },
  {
   "cell_type": "code",
   "execution_count": 6,
   "metadata": {},
   "outputs": [
    {
     "name": "stdout",
     "output_type": "stream",
     "text": [
      "<http.client.HTTPResponse object at 0x10d6939e8>\n"
     ]
    }
   ],
   "source": [
    "# request with paid proxy\n",
    "# with username and password\n",
    "# send request through handler\n",
    "import urllib.request\n",
    "\n",
    "\n",
    "def paid_proxy_use():\n",
    "    # 1. proxy ip\n",
    "    paid_proxy = {\"http\":\"username:pwd@192.168.12.11:8080\"}\n",
    "    # 2. proxy_handler\n",
    "    proxy_handler = urllib.request.ProxyHandler(paid_proxy)\n",
    "    # 3. create opener through handler\n",
    "    opener = urllib.request.build_opener(proxy_handler)\n",
    "    # 4. send request\n",
    "    response = opener.open(\"https://www.google.com/\", timeout=1)\n",
    "    \n",
    "    print(response)\n",
    "    \n",
    "    \n",
    "paid_proxy_use()"
   ]
  },
  {
   "cell_type": "markdown",
   "metadata": {},
   "source": [
    "# Method 2"
   ]
  },
  {
   "cell_type": "code",
   "execution_count": 10,
   "metadata": {},
   "outputs": [
    {
     "name": "stdout",
     "output_type": "stream",
     "text": [
      "<http.client.HTTPResponse object at 0x10d702dd8>\n"
     ]
    }
   ],
   "source": [
    "import urllib.request\n",
    "\n",
    "def paid_proxy_use():\n",
    "    # 1. user_name, pwd and paid_proxy\n",
    "    user_name = \"abc\"\n",
    "    \n",
    "    pwd = \"123456\"\n",
    "    \n",
    "    paid_proxy = \"123.158.63.130:8888\"\n",
    "    # 2. create pwd manager and add username, pwd\n",
    "    password_manager = urllib.request.HTTPPasswordMgrWithDefaultRealm()\n",
    "    \n",
    "    password_manager.add_password(None, paid_proxy, user_name, pwd)\n",
    "    # 3. create handler which can authorize proxy ip\n",
    "    handler_auth_proxy = urllib.request.ProxyBasicAuthHandler(password_manager)\n",
    "    # 4. create opener\n",
    "    opener_auth = urllib.request.build_opener(handler_auth_proxy)\n",
    "    # 5. send request\n",
    "    response = opener_auth.open(\"http://www.baidu.com\")\n",
    "    \n",
    "    print(response)\n",
    "    \n",
    "    # web_crawl data of company you work, data analysis\n",
    "    # admin\n",
    "    \n",
    "paid_proxy_use()"
   ]
  }
 ],
 "metadata": {
  "kernelspec": {
   "display_name": "Python 3",
   "language": "python",
   "name": "python3"
  },
  "language_info": {
   "codemirror_mode": {
    "name": "ipython",
    "version": 3
   },
   "file_extension": ".py",
   "mimetype": "text/x-python",
   "name": "python",
   "nbconvert_exporter": "python",
   "pygments_lexer": "ipython3",
   "version": "3.7.2"
  }
 },
 "nbformat": 4,
 "nbformat_minor": 2
}
