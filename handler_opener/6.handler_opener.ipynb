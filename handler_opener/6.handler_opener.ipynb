{
 "cells": [
  {
   "cell_type": "markdown",
   "metadata": {},
   "source": [
    "# use handler & opener"
   ]
  },
  {
   "cell_type": "code",
   "execution_count": 2,
   "metadata": {},
   "outputs": [],
   "source": [
    "import urllib.request\n",
    "\n",
    "def handler_opener():\n",
    "    \n",
    "        # there's no adding-proxy in urlopen, so we need define it\n",
    "        # http:80 ; https:443\n",
    "        # the reason urlopen can request data is handler\n",
    "        # opener could request data\n",
    "        url = \"https://en.wikipedia.org/wiki/Adriana_Lima\"\n",
    "        # 1.create handler\n",
    "        handler = urllib.request.HTTPHandler()\n",
    "        # 2.create opener\n",
    "        opener = urllib.request.build_opener(handler)\n",
    "        # 3.use opener to request data, opener.open()\n",
    "        response = opener.open(url)\n",
    "        \n",
    "        data = response.read().decode(\"utf-8\")\n",
    "        \n",
    "        with open(\"hander_opener.html\", \"w\", encoding=\"utf-8\") as f:\n",
    "            f.write(data)\n",
    "            \n",
    "            \n",
    "handler_opener()\n"
   ]
  }
 ],
 "metadata": {
  "kernelspec": {
   "display_name": "Python 3",
   "language": "python",
   "name": "python3"
  },
  "language_info": {
   "codemirror_mode": {
    "name": "ipython",
    "version": 3
   },
   "file_extension": ".py",
   "mimetype": "text/x-python",
   "name": "python",
   "nbconvert_exporter": "python",
   "pygments_lexer": "ipython3",
   "version": "3.7.2"
  }
 },
 "nbformat": 4,
 "nbformat_minor": 2
}
