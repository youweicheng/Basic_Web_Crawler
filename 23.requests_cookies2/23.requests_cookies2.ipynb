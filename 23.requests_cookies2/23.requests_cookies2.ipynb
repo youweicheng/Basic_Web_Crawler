{
 "cells": [
  {
   "cell_type": "code",
   "execution_count": 1,
   "metadata": {},
   "outputs": [
    {
     "name": "stdout",
     "output_type": "stream",
     "text": [
      "{\"message\":\"\\u767b\\u5f55\\u6210\\u529f\\uff0c\\u6b63\\u5728\\u8df3\\u8f6c...\",\"state\":\"success\",\"data\":{\"referer\":\"https%3A%2F%2Fwww.yaozh.com%2F\",\"items\":\"<script type=\\\"text\\/javascript\\\" src=\\\"https:\\/\\/bbs.yaozh.cn\\/api\\/uc.php?time=1647924313&code=8d2bXAz7Y8qpbbU6kbO5%2BtQW%2F7ZCxo8qBzVefJuHSPhKh%2FnimuaSHl%2FANCdkY0k6jbXIg%2Brz4QuLcYkBUwjRZLMr0m%2FLK5wH4OhMM52NkLlX7AqtR0aybjgm%2BmMl1fmpm0pqg8ZfbQTe%2BzAraQf1afHl4KH06%2F55%2FgWmQ%2BSevmSIqdze%2BA\\\" reload=\\\"1\\\"><\\/script><script type=\\\"text\\/javascript\\\" src=\\\"https:\\/\\/www.yaozh.com\\/api\\/uc.php?time=1647924313&code=703emeO1JChkMLR%2Fqm4235W%2FQqM%2Blg74ZbuTdqmKJQLPE2uzjF6%2BwRaAjxHoUuS6zzROvUv16ClYsP%2F9GqW8EubF9ej7m1XYIDWYl9tetlNXqZr9LRMzUsK6XPlJGJTrUmNRSk0jv%2FuzpwSnsyQb%2BugiVSIWY%2Bk7RHHYMIUC8UFqpa8Dew\\\" reload=\\\"1\\\"><\\/script>\"}}\n"
     ]
    }
   ],
   "source": [
    "import requests\n",
    "# ask url\n",
    "member_url = 'https://www.yaozh.com/member/'\n",
    "\n",
    "headers = {\n",
    "    'User-Agent': 'Mozilla/5.0 (Macintosh; Intel Mac OS X 10_12_6) AppleWebKit/537.36 (KHTML, like Gecko) Chrome/70.0.3538.67 Safari/537.36'\n",
    "}\n",
    "# session save cookies automatically, == cookieJar\n",
    "session = requests.session()\n",
    "# 1. login page \n",
    "login_url = \"https://www.yaozh.com/login\"\n",
    "\n",
    "login_data = {\n",
    "    \"username\":\"you0913338218@gmail.com\",\n",
    "    \"pwd\": \"test123\",\n",
    "    \"formhash\": \"7056AEF7C1\",\n",
    "    \"backurl\":\"https%3A%2F%2Fwww.yaozh.com%2F\"\n",
    "}\n",
    "\n",
    "login_response = session.post(login_url, data=login_data, headers=headers)\n",
    "\n",
    "print(login_response.content.decode())\n",
    "# 2. after successful login, get data with valid cookies\n",
    "data = session.get(member_url, headers=headers).content.decode()\n",
    "\n",
    "with open('requests_cookie2.html', 'w') as f:\n",
    "    f.write(data)"
   ]
  }
 ],
 "metadata": {
  "kernelspec": {
   "display_name": "Python 3",
   "language": "python",
   "name": "python3"
  },
  "language_info": {
   "codemirror_mode": {
    "name": "ipython",
    "version": 3
   },
   "file_extension": ".py",
   "mimetype": "text/x-python",
   "name": "python",
   "nbconvert_exporter": "python",
   "pygments_lexer": "ipython3",
   "version": "3.7.2"
  }
 },
 "nbformat": 4,
 "nbformat_minor": 2
}
