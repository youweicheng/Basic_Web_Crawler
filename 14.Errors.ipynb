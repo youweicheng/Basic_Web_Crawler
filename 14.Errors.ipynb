{
 "cells": [
  {
   "cell_type": "markdown",
   "metadata": {},
   "source": [
    "# 1.raise URLError(err)\n",
    "# urllib.error.URLError: <urlopen error [Errno 8] nodename nor servname provided, or not known>"
   ]
  },
  {
   "cell_type": "code",
   "execution_count": 5,
   "metadata": {},
   "outputs": [
    {
     "name": "stdout",
     "output_type": "stream",
     "text": [
      "<urlopen error [Errno 8] nodename nor servname provided, or not known>\n"
     ]
    }
   ],
   "source": [
    "import urllib.request\n",
    "\n",
    "url = 'https://affdsfsfsdfd.tw'\n",
    "\n",
    "\n",
    "try:\n",
    "    response = urllib.request.urlopen(url)\n",
    "    \n",
    "except urllib.request.URLError as error:\n",
    "    print(error)\n",
    "    "
   ]
  },
  {
   "cell_type": "markdown",
   "metadata": {},
   "source": [
    "# 2.raise HTTPError(req.full_url, code, msg, hdrs, fp)\n",
    "# urllib.error.HTTPError: HTTP Error 404: Not Found"
   ]
  },
  {
   "cell_type": "code",
   "execution_count": 8,
   "metadata": {},
   "outputs": [
    {
     "name": "stdout",
     "output_type": "stream",
     "text": [
      "HTTP Error 404: Not Found\n",
      "404\n"
     ]
    }
   ],
   "source": [
    "import urllib.request\n",
    "\n",
    "url = 'https://blog.csdn.net/zjsxxzh/article/details/110'\n",
    "\n",
    "try:\n",
    "    response = urllib.request.urlopen(url)\n",
    "\n",
    "except urllib.request.HTTPError as error:\n",
    "    print(error)\n",
    "    print(error.code)"
   ]
  }
 ],
 "metadata": {
  "kernelspec": {
   "display_name": "Python 3",
   "language": "python",
   "name": "python3"
  },
  "language_info": {
   "codemirror_mode": {
    "name": "ipython",
    "version": 3
   },
   "file_extension": ".py",
   "mimetype": "text/x-python",
   "name": "python",
   "nbconvert_exporter": "python",
   "pygments_lexer": "ipython3",
   "version": "3.7.2"
  }
 },
 "nbformat": 4,
 "nbformat_minor": 2
}
