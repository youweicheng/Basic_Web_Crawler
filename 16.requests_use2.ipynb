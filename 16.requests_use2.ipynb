{
 "cells": [
  {
   "cell_type": "code",
   "execution_count": 3,
   "metadata": {},
   "outputs": [
    {
     "name": "stdout",
     "output_type": "stream",
     "text": [
      "request_headers:  {'User-Agent': 'Mozilla/5.0 (Macintosh; Intel Mac OS X 10_12_6) AppleWebKit/537.36 (KHTML, like Gecko) Chrome/70.0.3538.67 Safari/537.36', 'Accept-Encoding': 'gzip, deflate', 'Accept': '*/*', 'Connection': 'keep-alive'}\n",
      "response_headers:  {'Date': 'Sat, 19 Mar 2022 08:07:20 GMT', 'Expires': '-1', 'Cache-Control': 'private, max-age=0', 'Content-Type': 'text/html; charset=UTF-8', 'Strict-Transport-Security': 'max-age=31536000', 'BFCache-Opt-In': 'unload', 'P3P': 'CP=\"This is not a P3P policy! See g.co/p3phelp for more info.\"', 'Content-Encoding': 'gzip', 'Server': 'gws', 'X-XSS-Protection': '0', 'X-Frame-Options': 'SAMEORIGIN', 'Set-Cookie': '1P_JAR=2022-03-19-08; expires=Mon, 18-Apr-2022 08:07:20 GMT; path=/; domain=.google.com; Secure; SameSite=none, NID=511=o_cxEK7Ifet_tg4On8vcveDt10rLu2Y7QnOzrFtLFKwIakTPUaNvkCpZ8H8tmGuCMgxfpKElLEEYuS3iKuvBY9LGeTRkU-b2S0YyAQkUsuw1l8VC0piIIMRPX-qQt0ZDAkXYCUI5TsZio0CFsqwYRkKlU96hqd7OO6KMSewECAE; expires=Sun, 18-Sep-2022 08:07:20 GMT; path=/; domain=.google.com; Secure; HttpOnly; SameSite=none', 'Alt-Svc': 'h3=\":443\"; ma=2592000,h3-29=\":443\"; ma=2592000,h3-Q050=\":443\"; ma=2592000,h3-Q046=\":443\"; ma=2592000,h3-Q043=\":443\"; ma=2592000,quic=\":443\"; ma=2592000; v=\"46,43\"', 'Transfer-Encoding': 'chunked'}\n",
      "response_code:  200\n",
      "request_cookies:  <RequestsCookieJar[]>\n",
      "response_cookies:  <RequestsCookieJar[<Cookie 1P_JAR=2022-03-19-08 for .google.com/>, <Cookie NID=511=o_cxEK7Ifet_tg4On8vcveDt10rLu2Y7QnOzrFtLFKwIakTPUaNvkCpZ8H8tmGuCMgxfpKElLEEYuS3iKuvBY9LGeTRkU-b2S0YyAQkUsuw1l8VC0piIIMRPX-qQt0ZDAkXYCUI5TsZio0CFsqwYRkKlU96hqd7OO6KMSewECAE for .google.com/>]>\n",
      "response_url:  https://www.google.com/\n"
     ]
    }
   ],
   "source": [
    "import requests\n",
    "\n",
    "\n",
    "class RequestCrawler(object):\n",
    "    def __init__(self):\n",
    "        \n",
    "        url = 'https://www.google.com'\n",
    "        \n",
    "        headers = {\n",
    "            \"User-Agent\":\"Mozilla/5.0 (Macintosh; Intel Mac OS X 10_12_6) AppleWebKit/537.36 (KHTML, like Gecko) Chrome/70.0.3538.67 Safari/537.36\"\n",
    "        }\n",
    "        \n",
    "        self.response = requests.get(url, headers=headers)\n",
    "        \n",
    "    def run(self):\n",
    "        # 1. get request headers\n",
    "        request_headers = self.response.request.headers\n",
    "        \n",
    "        print(\"request_headers: \", request_headers)\n",
    "        # 2. get response headers\n",
    "        response_headers = self.response.headers\n",
    "        \n",
    "        print(\"response_headers: \", response_headers)\n",
    "        # 3. get status code\n",
    "        response_code = self.response.status_code\n",
    "        \n",
    "        print(\"response_code: \", response_code)\n",
    "        # 4. get request cookies\n",
    "        request_cookies = self.response.request._cookies\n",
    "        \n",
    "        print(\"request_cookies: \", request_cookies)\n",
    "        # 5. get response cookies\n",
    "        response_cookies = self.response.cookies\n",
    "        \n",
    "        print(\"response_cookies: \", response_cookies)\n",
    "        # 6. get response url\n",
    "        response_url = self.response.url\n",
    "        \n",
    "        print(\"response_url: \", response_url)\n",
    "        \n",
    "        data = self.response.content\n",
    "        \n",
    "RequestCrawler().run()\n",
    "        \n",
    "        \n"
   ]
  }
 ],
 "metadata": {
  "kernelspec": {
   "display_name": "Python 3",
   "language": "python",
   "name": "python3"
  },
  "language_info": {
   "codemirror_mode": {
    "name": "ipython",
    "version": 3
   },
   "file_extension": ".py",
   "mimetype": "text/x-python",
   "name": "python",
   "nbconvert_exporter": "python",
   "pygments_lexer": "ipython3",
   "version": "3.7.2"
  }
 },
 "nbformat": 4,
 "nbformat_minor": 2
}
