{
 "cells": [
  {
   "cell_type": "markdown",
   "metadata": {},
   "source": [
    "# add header and get headers from request and response"
   ]
  },
  {
   "cell_type": "code",
   "execution_count": 32,
   "metadata": {},
   "outputs": [
    {
     "name": "stdout",
     "output_type": "stream",
     "text": [
      "response: <http.client.HTTPResponse object at 0x107402860>\n",
      "complete_url: https://www.google.com/\n",
      "\n",
      "response_headers:\n",
      " Date: Sun, 06 Mar 2022 04:21:37 GMT\n",
      "Expires: -1\n",
      "Cache-Control: private, max-age=0\n",
      "Content-Type: text/html; charset=UTF-8\n",
      "Strict-Transport-Security: max-age=31536000\n",
      "BFCache-Opt-In: unload\n",
      "P3P: CP=\"This is not a P3P policy! See g.co/p3phelp for more info.\"\n",
      "Server: gws\n",
      "X-XSS-Protection: 0\n",
      "X-Frame-Options: SAMEORIGIN\n",
      "Set-Cookie: 1P_JAR=2022-03-06-04; expires=Tue, 05-Apr-2022 04:21:37 GMT; path=/; domain=.google.com; Secure; SameSite=none\n",
      "Set-Cookie: NID=511=Kxf91xcx1OpKJ_4CxiL_Pf3v0Md2NGLKGxTt-T83AYKXQPoCa8v_SuHzTACDAERWU0JhFsR6TyadcM60xmvi1awo_34V9Hs2DV1Sw4ayi5pPGAlPLQt73tcCCBjUN5DYKmJyrAYW4XuuzSlpFE07qo90GNDhcOSFB7af_AXKNE8; expires=Mon, 05-Sep-2022 04:21:37 GMT; path=/; domain=.google.com; Secure; HttpOnly; SameSite=none\n",
      "Alt-Svc: h3=\":443\"; ma=2592000,h3-29=\":443\"; ma=2592000,h3-Q050=\":443\"; ma=2592000,h3-Q046=\":443\"; ma=2592000,h3-Q043=\":443\"; ma=2592000,quic=\":443\"; ma=2592000; v=\"46,43\"\n",
      "Accept-Ranges: none\n",
      "Vary: Accept-Encoding\n",
      "Connection: close\n",
      "Transfer-Encoding: chunked\n",
      "\n",
      "\n",
      "request_headers:\n",
      " {'User-agent': 'Mozilla/5.0 (Macintosh; Intel Mac OS X 10_13_2) AppleWebKit/537.36 (KHTML, like Gecko) Chrome/69.0.3497.100 Safari/537.36'}\n",
      "request_headers:\n",
      " <bound method Request.get_header of <urllib.request.Request object at 0x1074023c8>>\n",
      "request_headers:\n",
      " Mozilla/5.0 (Macintosh; Intel Mac OS X 10_13_2) AppleWebKit/537.36 (KHTML, like Gecko) Chrome/69.0.3497.100 Safari/537.36\n"
     ]
    }
   ],
   "source": [
    "import urllib.request\n",
    "\n",
    "def load_google():\n",
    "    \n",
    "    url = \"https://www.google.com/\"\n",
    "    \n",
    "    header = {\n",
    "        \"User-Agent\":\"Mozilla/5.0 (Macintosh; Intel Mac OS X 10_13_2) AppleWebKit/537.36 (KHTML, like Gecko) Chrome/69.0.3497.100 Safari/537.36\",\n",
    "        # \"sample\":\"value\"\n",
    "    }\n",
    "    # 1. create request\n",
    "    request = urllib.request.Request(url)\n",
    "    # 2. add header dynamically\n",
    "    request.add_header(\"User-Agent\",\"Mozilla/5.0 (Macintosh; Intel Mac OS X 10_13_2) AppleWebKit/537.36 (KHTML, like Gecko) Chrome/69.0.3497.100 Safari/537.36\")\n",
    "    # 3.get response\n",
    "    response = urllib.request.urlopen(request)\n",
    "    print(\"response:\",response)\n",
    "    data = response.read().decode('utf-8')\n",
    "    \n",
    "    # get complete url\n",
    "    complete_url = request.get_full_url()\n",
    "    print(\"complete_url:\",complete_url)\n",
    "    # get response headers : response.headers\n",
    "    print()\n",
    "    print(\"response_headers:\\n\",response.headers)\n",
    "    # get request headers : request.headers\n",
    "    print(\"request_headers:\\n\", request.headers)\n",
    "    # the other way to get headers(request only)\n",
    "    # first alphabet must be capital, the others are lower case\n",
    "    print(\"request_headers:\\n\", request.get_header)\n",
    "    print(\"request_headers:\\n\", request.get_header(\"User-agent\"))\n",
    "    with open(\"header.html\", \"w\", encoding=\"utf-8\") as f:\n",
    "        f.write(data)\n",
    "    \n",
    "    \n",
    "    \n",
    "load_google()\n",
    "    \n",
    "    \n",
    "    "
   ]
  }
 ],
 "metadata": {
  "kernelspec": {
   "display_name": "Python 3",
   "language": "python",
   "name": "python3"
  },
  "language_info": {
   "codemirror_mode": {
    "name": "ipython",
    "version": 3
   },
   "file_extension": ".py",
   "mimetype": "text/x-python",
   "name": "python",
   "nbconvert_exporter": "python",
   "pygments_lexer": "ipython3",
   "version": "3.7.2"
  }
 },
 "nbformat": 4,
 "nbformat_minor": 2
}
