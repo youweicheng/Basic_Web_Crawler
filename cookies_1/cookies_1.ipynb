{
 "cells": [
  {
   "cell_type": "code",
   "execution_count": 2,
   "metadata": {},
   "outputs": [
    {
     "name": "stdout",
     "output_type": "stream",
     "text": [
      "<class 'bytes'>\n"
     ]
    }
   ],
   "source": [
    "import urllib.request\n",
    "\n",
    "# 1. url\n",
    "url = 'https://www.yaozh.com/member/'\n",
    "# 2. add headers\n",
    "headers = {\n",
    "    'User-Agent':'Mozilla/5.0 (Macintosh; Intel Mac OS X 10_12_6) AppleWebKit/537.36 (KHTML, like Gecko) Chrome/70.0.3538.67 Safari/537.36'\n",
    "}\n",
    "\n",
    "# 3. create request\n",
    "request = urllib.request.Request(url, headers=headers)\n",
    "\n",
    "# 4. send request\n",
    "response = urllib.request.urlopen(request)\n",
    "\n",
    "# 5. read data\n",
    "data = response.read()\n",
    "print(type(data))\n",
    "\n",
    "# save to file in class bytes\n",
    "with open('cookies_1.html', 'wb') as f:\n",
    "    f.write(data)"
   ]
  }
 ],
 "metadata": {
  "kernelspec": {
   "display_name": "Python 3",
   "language": "python",
   "name": "python3"
  },
  "language_info": {
   "codemirror_mode": {
    "name": "ipython",
    "version": 3
   },
   "file_extension": ".py",
   "mimetype": "text/x-python",
   "name": "python",
   "nbconvert_exporter": "python",
   "pygments_lexer": "ipython3",
   "version": "3.7.2"
  }
 },
 "nbformat": 4,
 "nbformat_minor": 2
}
