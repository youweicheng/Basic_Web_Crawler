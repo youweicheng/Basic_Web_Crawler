{
 "cells": [
  {
   "cell_type": "code",
   "execution_count": null,
   "metadata": {},
   "outputs": [],
   "source": [
    "import re\n",
    "# split matching\n",
    "one = \"asdsfsgsh\"\n",
    "pattern = re.compile('s')\n",
    "\n",
    "result = pattern.split(one)\n",
    "print(result)"
   ]
  },
  {
   "cell_type": "code",
   "execution_count": 4,
   "metadata": {},
   "outputs": [
    {
     "name": "stdout",
     "output_type": "stream",
     "text": [
      "['网页是最新版本的', '适配移动端']\n"
     ]
    }
   ],
   "source": [
    "# chinese matching\n",
    "two = '<a href=\"https://www.baidu.com/\" nslog=\"normal\" nslog-type=\"10600112\" data-href=\"https://www.baidu.com/s?ie=utf-8&amp;fr=bks0000&amp;wd=\">网页是最新版本的,适配移动端</a>'\n",
    "# scope of chinese words in unicode, [a-z]\n",
    "pattern = re.compile('[\\u4e00-\\u9fa5]+')\n",
    "\n",
    "result = pattern.findall(two)\n",
    "print(result)"
   ]
  }
 ],
 "metadata": {
  "kernelspec": {
   "display_name": "Python 3",
   "language": "python",
   "name": "python3"
  },
  "language_info": {
   "codemirror_mode": {
    "name": "ipython",
    "version": 3
   },
   "file_extension": ".py",
   "mimetype": "text/x-python",
   "name": "python",
   "nbconvert_exporter": "python",
   "pygments_lexer": "ipython3",
   "version": "3.7.2"
  }
 },
 "nbformat": 4,
 "nbformat_minor": 2
}
